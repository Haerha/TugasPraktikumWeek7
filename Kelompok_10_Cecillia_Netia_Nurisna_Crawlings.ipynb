{
  "nbformat": 4,
  "nbformat_minor": 0,
  "metadata": {
    "colab": {
      "provenance": [],
      "include_colab_link": true
    },
    "kernelspec": {
      "name": "ir",
      "display_name": "R"
    }
  },
  "cells": [
    {
      "cell_type": "markdown",
      "metadata": {
        "id": "view-in-github",
        "colab_type": "text"
      },
      "source": [
        "<a href=\"https://colab.research.google.com/github/Haerha/TugasPraktikumWeek7/blob/main/Kelompok_10_Cecillia_Netia_Nurisna_Crawlings.ipynb\" target=\"_parent\"><img src=\"https://colab.research.google.com/assets/colab-badge.svg\" alt=\"Open In Colab\"/></a>"
      ]
    },
    {
      "cell_type": "code",
      "metadata": {
        "id": "qEVxjQTUg7O3",
        "outputId": "0d6c73a0-a022-4458-bc81-e723cc4e30a7",
        "colab": {
          "base_uri": "https://localhost:8080/"
        }
      },
      "source": [
        "install.packages(\"httr\")"
      ],
      "execution_count": 1,
      "outputs": [
        {
          "output_type": "stream",
          "name": "stderr",
          "text": [
            "Installing package into ‘/usr/local/lib/R/site-library’\n",
            "(as ‘lib’ is unspecified)\n",
            "\n"
          ]
        }
      ]
    },
    {
      "cell_type": "code",
      "metadata": {
        "id": "As-bwdcEhdtW",
        "outputId": "826137a8-299b-41d7-d131-7704209724e1",
        "colab": {
          "base_uri": "https://localhost:8080/"
        }
      },
      "source": [
        "install.packages(\"twitteR\")"
      ],
      "execution_count": 2,
      "outputs": [
        {
          "output_type": "stream",
          "name": "stderr",
          "text": [
            "Installing package into ‘/usr/local/lib/R/site-library’\n",
            "(as ‘lib’ is unspecified)\n",
            "\n",
            "also installing the dependency ‘rjson’\n",
            "\n",
            "\n"
          ]
        }
      ]
    },
    {
      "cell_type": "code",
      "metadata": {
        "id": "S7kwElQmhmGu"
      },
      "source": [
        "library(\"httr\")"
      ],
      "execution_count": 3,
      "outputs": []
    },
    {
      "cell_type": "code",
      "metadata": {
        "id": "AQjYKO17hqz3"
      },
      "source": [
        "library(\"twitteR\")"
      ],
      "execution_count": 4,
      "outputs": []
    },
    {
      "cell_type": "code",
      "metadata": {
        "id": "DT501gOHiKXV",
        "outputId": "f9ede618-5c65-4647-c9bb-a766d04bb46b",
        "colab": {
          "base_uri": "https://localhost:8080/"
        }
      },
      "source": [
        "#setup_twitter_oauth(\"APIKey\",\"APISecretKey\", \"AccessToken\", \"AccessSecretToken\")\n",
        "setup_twitter_oauth('kObaIEuM8y72KOS1T6xHlfbXM','bTAwjeyp4XIr0jNCL374CGvUyOfdGp3wYug7YvjuiCqYIb5IRm','1070107987681759233-NtrmeY56cAkBKHHRaPqv9di6LGohgC','jkzK9HsoLeghS0WdK7OOt2lFvBclHSOqRRPh83XB5NCVt')"
      ],
      "execution_count": 5,
      "outputs": [
        {
          "output_type": "stream",
          "name": "stdout",
          "text": [
            "[1] \"Using direct authentication\"\n"
          ]
        }
      ]
    },
    {
      "cell_type": "code",
      "metadata": {
        "id": "9U1qMp6IiqTt"
      },
      "source": [
        "tweets<- searchTwitter(\"#mama2022\",lang=\"en\", n=5000)"
      ],
      "execution_count": 6,
      "outputs": []
    },
    {
      "cell_type": "code",
      "metadata": {
        "id": "dSpVtoC0iwwt"
      },
      "source": [
        "tweets<- twListToDF(tweets)"
      ],
      "execution_count": 7,
      "outputs": []
    },
    {
      "cell_type": "code",
      "metadata": {
        "id": "5Ic5z2Lei2Ag"
      },
      "source": [
        "write.csv(tweets,\"mama_2022.csv\", row.names = FALSE)"
      ],
      "execution_count": 8,
      "outputs": []
    }
  ]
}